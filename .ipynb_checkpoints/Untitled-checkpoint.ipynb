{
 "cells": [
  {
   "cell_type": "code",
   "execution_count": 2,
   "id": "2f6c70c1-6cda-4676-8213-b3a199d4bbf8",
   "metadata": {},
   "outputs": [],
   "source": [
    "import pandas as pd"
   ]
  },
  {
   "cell_type": "code",
   "execution_count": 10,
   "id": "572686b6-e0af-4804-93ec-46bb9c5aa4a4",
   "metadata": {},
   "outputs": [],
   "source": [
    "df = pd.read_csv(\"bi.csv\", encoding=\"latin1\")"
   ]
  },
  {
   "cell_type": "code",
   "execution_count": 12,
   "id": "16f472fc-97ac-4b41-8414-0ec72e9f4334",
   "metadata": {},
   "outputs": [
    {
     "data": {
      "text/html": [
       "<div>\n",
       "<style scoped>\n",
       "    .dataframe tbody tr th:only-of-type {\n",
       "        vertical-align: middle;\n",
       "    }\n",
       "\n",
       "    .dataframe tbody tr th {\n",
       "        vertical-align: top;\n",
       "    }\n",
       "\n",
       "    .dataframe thead th {\n",
       "        text-align: right;\n",
       "    }\n",
       "</style>\n",
       "<table border=\"1\" class=\"dataframe\">\n",
       "  <thead>\n",
       "    <tr style=\"text-align: right;\">\n",
       "      <th></th>\n",
       "      <th>fNAME</th>\n",
       "      <th>lNAME</th>\n",
       "      <th>Age</th>\n",
       "      <th>gender</th>\n",
       "      <th>country</th>\n",
       "      <th>residence</th>\n",
       "      <th>entryEXAM</th>\n",
       "      <th>prevEducation</th>\n",
       "      <th>studyHOURS</th>\n",
       "      <th>Python</th>\n",
       "      <th>DB</th>\n",
       "    </tr>\n",
       "  </thead>\n",
       "  <tbody>\n",
       "    <tr>\n",
       "      <th>0</th>\n",
       "      <td>Christina</td>\n",
       "      <td>Binger</td>\n",
       "      <td>44</td>\n",
       "      <td>Female</td>\n",
       "      <td>Norway</td>\n",
       "      <td>Private</td>\n",
       "      <td>72</td>\n",
       "      <td>Masters</td>\n",
       "      <td>158</td>\n",
       "      <td>59.0</td>\n",
       "      <td>55</td>\n",
       "    </tr>\n",
       "    <tr>\n",
       "      <th>1</th>\n",
       "      <td>Alex</td>\n",
       "      <td>Walekhwa</td>\n",
       "      <td>60</td>\n",
       "      <td>M</td>\n",
       "      <td>Kenya</td>\n",
       "      <td>Private</td>\n",
       "      <td>79</td>\n",
       "      <td>Diploma</td>\n",
       "      <td>150</td>\n",
       "      <td>60.0</td>\n",
       "      <td>75</td>\n",
       "    </tr>\n",
       "    <tr>\n",
       "      <th>2</th>\n",
       "      <td>Philip</td>\n",
       "      <td>Leo</td>\n",
       "      <td>25</td>\n",
       "      <td>Male</td>\n",
       "      <td>Uganda</td>\n",
       "      <td>Sognsvann</td>\n",
       "      <td>55</td>\n",
       "      <td>HighSchool</td>\n",
       "      <td>130</td>\n",
       "      <td>74.0</td>\n",
       "      <td>50</td>\n",
       "    </tr>\n",
       "    <tr>\n",
       "      <th>3</th>\n",
       "      <td>Shoni</td>\n",
       "      <td>Hlongwane</td>\n",
       "      <td>22</td>\n",
       "      <td>F</td>\n",
       "      <td>Rsa</td>\n",
       "      <td>Sognsvann</td>\n",
       "      <td>40</td>\n",
       "      <td>High School</td>\n",
       "      <td>120</td>\n",
       "      <td>NaN</td>\n",
       "      <td>44</td>\n",
       "    </tr>\n",
       "    <tr>\n",
       "      <th>4</th>\n",
       "      <td>Maria</td>\n",
       "      <td>Kedibone</td>\n",
       "      <td>23</td>\n",
       "      <td>Female</td>\n",
       "      <td>South Africa</td>\n",
       "      <td>Sognsvann</td>\n",
       "      <td>65</td>\n",
       "      <td>High School</td>\n",
       "      <td>122</td>\n",
       "      <td>91.0</td>\n",
       "      <td>80</td>\n",
       "    </tr>\n",
       "  </tbody>\n",
       "</table>\n",
       "</div>"
      ],
      "text/plain": [
       "       fNAME      lNAME  Age  gender       country  residence  entryEXAM  \\\n",
       "0  Christina     Binger   44  Female        Norway    Private         72   \n",
       "1       Alex   Walekhwa   60       M         Kenya    Private         79   \n",
       "2     Philip        Leo   25    Male        Uganda  Sognsvann         55   \n",
       "3      Shoni  Hlongwane   22       F           Rsa  Sognsvann         40   \n",
       "4      Maria   Kedibone   23  Female  South Africa  Sognsvann         65   \n",
       "\n",
       "  prevEducation  studyHOURS  Python  DB  \n",
       "0       Masters         158    59.0  55  \n",
       "1       Diploma         150    60.0  75  \n",
       "2    HighSchool         130    74.0  50  \n",
       "3   High School         120     NaN  44  \n",
       "4   High School         122    91.0  80  "
      ]
     },
     "execution_count": 12,
     "metadata": {},
     "output_type": "execute_result"
    }
   ],
   "source": [
    "df.head()"
   ]
  },
  {
   "cell_type": "code",
   "execution_count": 14,
   "id": "03292c8c-2820-4e24-8fe5-f87458b69cb7",
   "metadata": {},
   "outputs": [
    {
     "data": {
      "text/plain": [
       "(77, 11)"
      ]
     },
     "execution_count": 14,
     "metadata": {},
     "output_type": "execute_result"
    }
   ],
   "source": [
    "df.shape"
   ]
  },
  {
   "cell_type": "code",
   "execution_count": 15,
   "id": "a08dc61c-129b-48f3-8113-a17388ea9ca2",
   "metadata": {},
   "outputs": [
    {
     "name": "stdout",
     "output_type": "stream",
     "text": [
      "<class 'pandas.core.frame.DataFrame'>\n",
      "RangeIndex: 77 entries, 0 to 76\n",
      "Data columns (total 11 columns):\n",
      " #   Column         Non-Null Count  Dtype  \n",
      "---  ------         --------------  -----  \n",
      " 0   fNAME          77 non-null     object \n",
      " 1   lNAME          77 non-null     object \n",
      " 2   Age            77 non-null     int64  \n",
      " 3   gender         77 non-null     object \n",
      " 4   country        77 non-null     object \n",
      " 5   residence      77 non-null     object \n",
      " 6   entryEXAM      77 non-null     int64  \n",
      " 7   prevEducation  77 non-null     object \n",
      " 8   studyHOURS     77 non-null     int64  \n",
      " 9   Python         75 non-null     float64\n",
      " 10  DB             77 non-null     int64  \n",
      "dtypes: float64(1), int64(4), object(6)\n",
      "memory usage: 6.7+ KB\n"
     ]
    }
   ],
   "source": [
    "df.info()"
   ]
  },
  {
   "cell_type": "code",
   "execution_count": 16,
   "id": "695f77c3-a557-4326-8748-84c68c6923e4",
   "metadata": {},
   "outputs": [
    {
     "data": {
      "text/plain": [
       "array(['Female', 'M', 'Male', 'F', 'female', 'male'], dtype=object)"
      ]
     },
     "execution_count": 16,
     "metadata": {},
     "output_type": "execute_result"
    }
   ],
   "source": [
    "df['gender'].unique()"
   ]
  },
  {
   "cell_type": "code",
   "execution_count": 17,
   "id": "57c4bc26-2f06-482d-ba6e-c677a9f30bd9",
   "metadata": {},
   "outputs": [
    {
     "data": {
      "text/plain": [
       "array(['Norway', 'Kenya', 'Uganda', 'Rsa', 'South Africa', 'Norge',\n",
       "       'norway', 'Denmark', 'Netherlands', 'Italy', 'Spain', 'UK',\n",
       "       'Somali', 'Nigeria', 'Germany', 'France'], dtype=object)"
      ]
     },
     "execution_count": 17,
     "metadata": {},
     "output_type": "execute_result"
    }
   ],
   "source": [
    "df['country'].unique()"
   ]
  },
  {
   "cell_type": "code",
   "execution_count": 18,
   "id": "d13f2463-b2cd-40fd-a9f3-f7c6e74ee252",
   "metadata": {},
   "outputs": [
    {
     "data": {
      "text/plain": [
       "array(['Masters', 'Diploma', 'HighSchool', 'High School', 'Bachelors',\n",
       "       'Barrrchelors', 'diploma', 'DIPLOMA', 'Diplomaaa', 'Doctorate'],\n",
       "      dtype=object)"
      ]
     },
     "execution_count": 18,
     "metadata": {},
     "output_type": "execute_result"
    }
   ],
   "source": [
    "df['prevEducation'].unique()"
   ]
  },
  {
   "cell_type": "code",
   "execution_count": 20,
   "id": "677dcf3a-047f-4e94-8e1c-a6b9bfbf7869",
   "metadata": {},
   "outputs": [],
   "source": [
    "df['gender'] = df['gender'].replace([\"male\", \"Male\"], \"M\")"
   ]
  },
  {
   "cell_type": "code",
   "execution_count": 21,
   "id": "891a35d6-ad22-4a18-8958-c536d8863de6",
   "metadata": {},
   "outputs": [],
   "source": [
    "df['gender'] = df['gender'].replace([\"female\", \"Female\"], \"F\")"
   ]
  },
  {
   "cell_type": "code",
   "execution_count": 40,
   "id": "45edd252-9ece-476c-870f-003b7b3ba45e",
   "metadata": {},
   "outputs": [],
   "source": [
    "df['country'] = df['country'].replace(\"norway\", \"Norway\")"
   ]
  },
  {
   "cell_type": "code",
   "execution_count": 22,
   "id": "08db8ba1-843a-44ef-8444-3a569ddd622e",
   "metadata": {},
   "outputs": [],
   "source": [
    "df['prevEducation'] = df['prevEducation'].replace([\"Diplomaaa\", \"diploma\", \"DIPLOMA\"], \"Diploma\")"
   ]
  },
  {
   "cell_type": "code",
   "execution_count": 23,
   "id": "dfe03e55-79f1-4e57-93df-f0de3ef54fb7",
   "metadata": {},
   "outputs": [],
   "source": [
    "df['prevEducation'] = df['prevEducation'].replace(\"High School\", \"HighSchool\")"
   ]
  },
  {
   "cell_type": "code",
   "execution_count": 24,
   "id": "25562e22-b893-4671-81cf-50b284247460",
   "metadata": {},
   "outputs": [],
   "source": [
    "df['prevEducation'] = df['prevEducation'].replace(\"Barrrchelors\", \"Bachelors\")"
   ]
  },
  {
   "cell_type": "code",
   "execution_count": 25,
   "id": "fa3a5fb4-0ad8-4f72-9867-1156d85c49f4",
   "metadata": {},
   "outputs": [
    {
     "data": {
      "text/plain": [
       "array(['F', 'M'], dtype=object)"
      ]
     },
     "execution_count": 25,
     "metadata": {},
     "output_type": "execute_result"
    }
   ],
   "source": [
    "df['gender'].unique()"
   ]
  },
  {
   "cell_type": "code",
   "execution_count": 41,
   "id": "f3583101-c0bf-4fde-8112-c425f2676c7a",
   "metadata": {},
   "outputs": [
    {
     "data": {
      "text/plain": [
       "array(['Norway', 'Kenya', 'Uganda', 'Rsa', 'South Africa', 'Norge',\n",
       "       'Denmark', 'Netherlands', 'Italy', 'Spain', 'UK', 'Somali',\n",
       "       'Nigeria', 'Germany', 'France'], dtype=object)"
      ]
     },
     "execution_count": 41,
     "metadata": {},
     "output_type": "execute_result"
    }
   ],
   "source": [
    "df['country'].unique()"
   ]
  },
  {
   "cell_type": "code",
   "execution_count": 26,
   "id": "243fa4a6-efc9-4118-bf0a-832e58683693",
   "metadata": {},
   "outputs": [
    {
     "data": {
      "text/plain": [
       "array(['Masters', 'Diploma', 'HighSchool', 'Bachelors', 'Doctorate'],\n",
       "      dtype=object)"
      ]
     },
     "execution_count": 26,
     "metadata": {},
     "output_type": "execute_result"
    }
   ],
   "source": [
    "df['prevEducation'].unique()"
   ]
  },
  {
   "cell_type": "code",
   "execution_count": 42,
   "id": "8889c660-f103-458b-ae02-b8aa18df803b",
   "metadata": {},
   "outputs": [
    {
     "data": {
      "text/html": [
       "<div>\n",
       "<style scoped>\n",
       "    .dataframe tbody tr th:only-of-type {\n",
       "        vertical-align: middle;\n",
       "    }\n",
       "\n",
       "    .dataframe tbody tr th {\n",
       "        vertical-align: top;\n",
       "    }\n",
       "\n",
       "    .dataframe thead th {\n",
       "        text-align: right;\n",
       "    }\n",
       "</style>\n",
       "<table border=\"1\" class=\"dataframe\">\n",
       "  <thead>\n",
       "    <tr style=\"text-align: right;\">\n",
       "      <th></th>\n",
       "      <th>fNAME</th>\n",
       "      <th>lNAME</th>\n",
       "      <th>Age</th>\n",
       "      <th>gender</th>\n",
       "      <th>country</th>\n",
       "      <th>residence</th>\n",
       "      <th>entryEXAM</th>\n",
       "      <th>prevEducation</th>\n",
       "      <th>studyHOURS</th>\n",
       "      <th>Python</th>\n",
       "      <th>DB</th>\n",
       "    </tr>\n",
       "  </thead>\n",
       "  <tbody>\n",
       "    <tr>\n",
       "      <th>0</th>\n",
       "      <td>Christina</td>\n",
       "      <td>Binger</td>\n",
       "      <td>44</td>\n",
       "      <td>F</td>\n",
       "      <td>Norway</td>\n",
       "      <td>Private</td>\n",
       "      <td>72</td>\n",
       "      <td>Masters</td>\n",
       "      <td>158</td>\n",
       "      <td>59.000000</td>\n",
       "      <td>55</td>\n",
       "    </tr>\n",
       "    <tr>\n",
       "      <th>1</th>\n",
       "      <td>Alex</td>\n",
       "      <td>Walekhwa</td>\n",
       "      <td>60</td>\n",
       "      <td>M</td>\n",
       "      <td>Kenya</td>\n",
       "      <td>Private</td>\n",
       "      <td>79</td>\n",
       "      <td>Diploma</td>\n",
       "      <td>150</td>\n",
       "      <td>60.000000</td>\n",
       "      <td>75</td>\n",
       "    </tr>\n",
       "    <tr>\n",
       "      <th>2</th>\n",
       "      <td>Philip</td>\n",
       "      <td>Leo</td>\n",
       "      <td>25</td>\n",
       "      <td>M</td>\n",
       "      <td>Uganda</td>\n",
       "      <td>Sognsvann</td>\n",
       "      <td>55</td>\n",
       "      <td>HighSchool</td>\n",
       "      <td>130</td>\n",
       "      <td>74.000000</td>\n",
       "      <td>50</td>\n",
       "    </tr>\n",
       "    <tr>\n",
       "      <th>3</th>\n",
       "      <td>Shoni</td>\n",
       "      <td>Hlongwane</td>\n",
       "      <td>22</td>\n",
       "      <td>F</td>\n",
       "      <td>Rsa</td>\n",
       "      <td>Sognsvann</td>\n",
       "      <td>40</td>\n",
       "      <td>HighSchool</td>\n",
       "      <td>120</td>\n",
       "      <td>75.853333</td>\n",
       "      <td>44</td>\n",
       "    </tr>\n",
       "    <tr>\n",
       "      <th>4</th>\n",
       "      <td>Maria</td>\n",
       "      <td>Kedibone</td>\n",
       "      <td>23</td>\n",
       "      <td>F</td>\n",
       "      <td>South Africa</td>\n",
       "      <td>Sognsvann</td>\n",
       "      <td>65</td>\n",
       "      <td>HighSchool</td>\n",
       "      <td>122</td>\n",
       "      <td>91.000000</td>\n",
       "      <td>80</td>\n",
       "    </tr>\n",
       "  </tbody>\n",
       "</table>\n",
       "</div>"
      ],
      "text/plain": [
       "       fNAME      lNAME  Age gender       country  residence  entryEXAM  \\\n",
       "0  Christina     Binger   44      F        Norway    Private         72   \n",
       "1       Alex   Walekhwa   60      M         Kenya    Private         79   \n",
       "2     Philip        Leo   25      M        Uganda  Sognsvann         55   \n",
       "3      Shoni  Hlongwane   22      F           Rsa  Sognsvann         40   \n",
       "4      Maria   Kedibone   23      F  South Africa  Sognsvann         65   \n",
       "\n",
       "  prevEducation  studyHOURS     Python  DB  \n",
       "0       Masters         158  59.000000  55  \n",
       "1       Diploma         150  60.000000  75  \n",
       "2    HighSchool         130  74.000000  50  \n",
       "3    HighSchool         120  75.853333  44  \n",
       "4    HighSchool         122  91.000000  80  "
      ]
     },
     "execution_count": 42,
     "metadata": {},
     "output_type": "execute_result"
    }
   ],
   "source": [
    "df.head()"
   ]
  },
  {
   "cell_type": "code",
   "execution_count": 32,
   "id": "33a41217-aa61-4234-b95b-8e9005827188",
   "metadata": {},
   "outputs": [
    {
     "data": {
      "text/plain": [
       "np.int64(0)"
      ]
     },
     "execution_count": 32,
     "metadata": {},
     "output_type": "execute_result"
    }
   ],
   "source": [
    "df.duplicated().sum()"
   ]
  },
  {
   "cell_type": "code",
   "execution_count": 33,
   "id": "c6b71da5-02e9-4c79-b0e3-4866f01bbf12",
   "metadata": {},
   "outputs": [
    {
     "data": {
      "text/plain": [
       "fNAME            0\n",
       "lNAME            0\n",
       "Age              0\n",
       "gender           0\n",
       "country          0\n",
       "residence        0\n",
       "entryEXAM        0\n",
       "prevEducation    0\n",
       "studyHOURS       0\n",
       "Python           2\n",
       "DB               0\n",
       "dtype: int64"
      ]
     },
     "execution_count": 33,
     "metadata": {},
     "output_type": "execute_result"
    }
   ],
   "source": [
    "df.isnull().sum()"
   ]
  },
  {
   "cell_type": "code",
   "execution_count": 38,
   "id": "5d8fc2e3-b8e9-4666-8abf-17027076f0bc",
   "metadata": {},
   "outputs": [],
   "source": [
    "df.fillna({\"Python\": df[\"Python\"].mean()}, inplace=True)"
   ]
  },
  {
   "cell_type": "code",
   "execution_count": 39,
   "id": "dd86e920-c73d-45fd-ba75-81cb14ab66d5",
   "metadata": {},
   "outputs": [
    {
     "data": {
      "text/html": [
       "<div>\n",
       "<style scoped>\n",
       "    .dataframe tbody tr th:only-of-type {\n",
       "        vertical-align: middle;\n",
       "    }\n",
       "\n",
       "    .dataframe tbody tr th {\n",
       "        vertical-align: top;\n",
       "    }\n",
       "\n",
       "    .dataframe thead th {\n",
       "        text-align: right;\n",
       "    }\n",
       "</style>\n",
       "<table border=\"1\" class=\"dataframe\">\n",
       "  <thead>\n",
       "    <tr style=\"text-align: right;\">\n",
       "      <th></th>\n",
       "      <th>fNAME</th>\n",
       "      <th>lNAME</th>\n",
       "      <th>Age</th>\n",
       "      <th>gender</th>\n",
       "      <th>country</th>\n",
       "      <th>residence</th>\n",
       "      <th>entryEXAM</th>\n",
       "      <th>prevEducation</th>\n",
       "      <th>studyHOURS</th>\n",
       "      <th>Python</th>\n",
       "      <th>DB</th>\n",
       "    </tr>\n",
       "  </thead>\n",
       "  <tbody>\n",
       "    <tr>\n",
       "      <th>0</th>\n",
       "      <td>Christina</td>\n",
       "      <td>Binger</td>\n",
       "      <td>44</td>\n",
       "      <td>F</td>\n",
       "      <td>Norway</td>\n",
       "      <td>Private</td>\n",
       "      <td>72</td>\n",
       "      <td>Masters</td>\n",
       "      <td>158</td>\n",
       "      <td>59.000000</td>\n",
       "      <td>55</td>\n",
       "    </tr>\n",
       "    <tr>\n",
       "      <th>1</th>\n",
       "      <td>Alex</td>\n",
       "      <td>Walekhwa</td>\n",
       "      <td>60</td>\n",
       "      <td>M</td>\n",
       "      <td>Kenya</td>\n",
       "      <td>Private</td>\n",
       "      <td>79</td>\n",
       "      <td>Diploma</td>\n",
       "      <td>150</td>\n",
       "      <td>60.000000</td>\n",
       "      <td>75</td>\n",
       "    </tr>\n",
       "    <tr>\n",
       "      <th>2</th>\n",
       "      <td>Philip</td>\n",
       "      <td>Leo</td>\n",
       "      <td>25</td>\n",
       "      <td>M</td>\n",
       "      <td>Uganda</td>\n",
       "      <td>Sognsvann</td>\n",
       "      <td>55</td>\n",
       "      <td>HighSchool</td>\n",
       "      <td>130</td>\n",
       "      <td>74.000000</td>\n",
       "      <td>50</td>\n",
       "    </tr>\n",
       "    <tr>\n",
       "      <th>3</th>\n",
       "      <td>Shoni</td>\n",
       "      <td>Hlongwane</td>\n",
       "      <td>22</td>\n",
       "      <td>F</td>\n",
       "      <td>Rsa</td>\n",
       "      <td>Sognsvann</td>\n",
       "      <td>40</td>\n",
       "      <td>HighSchool</td>\n",
       "      <td>120</td>\n",
       "      <td>75.853333</td>\n",
       "      <td>44</td>\n",
       "    </tr>\n",
       "    <tr>\n",
       "      <th>4</th>\n",
       "      <td>Maria</td>\n",
       "      <td>Kedibone</td>\n",
       "      <td>23</td>\n",
       "      <td>F</td>\n",
       "      <td>South Africa</td>\n",
       "      <td>Sognsvann</td>\n",
       "      <td>65</td>\n",
       "      <td>HighSchool</td>\n",
       "      <td>122</td>\n",
       "      <td>91.000000</td>\n",
       "      <td>80</td>\n",
       "    </tr>\n",
       "  </tbody>\n",
       "</table>\n",
       "</div>"
      ],
      "text/plain": [
       "       fNAME      lNAME  Age gender       country  residence  entryEXAM  \\\n",
       "0  Christina     Binger   44      F        Norway    Private         72   \n",
       "1       Alex   Walekhwa   60      M         Kenya    Private         79   \n",
       "2     Philip        Leo   25      M        Uganda  Sognsvann         55   \n",
       "3      Shoni  Hlongwane   22      F           Rsa  Sognsvann         40   \n",
       "4      Maria   Kedibone   23      F  South Africa  Sognsvann         65   \n",
       "\n",
       "  prevEducation  studyHOURS     Python  DB  \n",
       "0       Masters         158  59.000000  55  \n",
       "1       Diploma         150  60.000000  75  \n",
       "2    HighSchool         130  74.000000  50  \n",
       "3    HighSchool         120  75.853333  44  \n",
       "4    HighSchool         122  91.000000  80  "
      ]
     },
     "execution_count": 39,
     "metadata": {},
     "output_type": "execute_result"
    }
   ],
   "source": [
    "df.head()"
   ]
  },
  {
   "cell_type": "code",
   "execution_count": 43,
   "id": "3029fc7d-6063-44b6-8196-0314f395415c",
   "metadata": {},
   "outputs": [
    {
     "name": "stdout",
     "output_type": "stream",
     "text": [
      "Requirement already satisfied: seaborn in c:\\users\\hp\\anaconda3\\lib\\site-packages (0.13.2)\n",
      "Requirement already satisfied: numpy!=1.24.0,>=1.20 in c:\\users\\hp\\anaconda3\\lib\\site-packages (from seaborn) (2.1.3)\n",
      "Requirement already satisfied: pandas>=1.2 in c:\\users\\hp\\anaconda3\\lib\\site-packages (from seaborn) (2.2.3)\n",
      "Requirement already satisfied: matplotlib!=3.6.1,>=3.4 in c:\\users\\hp\\anaconda3\\lib\\site-packages (from seaborn) (3.10.0)\n",
      "Requirement already satisfied: contourpy>=1.0.1 in c:\\users\\hp\\anaconda3\\lib\\site-packages (from matplotlib!=3.6.1,>=3.4->seaborn) (1.3.1)\n",
      "Requirement already satisfied: cycler>=0.10 in c:\\users\\hp\\anaconda3\\lib\\site-packages (from matplotlib!=3.6.1,>=3.4->seaborn) (0.11.0)\n",
      "Requirement already satisfied: fonttools>=4.22.0 in c:\\users\\hp\\anaconda3\\lib\\site-packages (from matplotlib!=3.6.1,>=3.4->seaborn) (4.55.3)\n",
      "Requirement already satisfied: kiwisolver>=1.3.1 in c:\\users\\hp\\anaconda3\\lib\\site-packages (from matplotlib!=3.6.1,>=3.4->seaborn) (1.4.8)\n",
      "Requirement already satisfied: packaging>=20.0 in c:\\users\\hp\\anaconda3\\lib\\site-packages (from matplotlib!=3.6.1,>=3.4->seaborn) (24.2)\n",
      "Requirement already satisfied: pillow>=8 in c:\\users\\hp\\anaconda3\\lib\\site-packages (from matplotlib!=3.6.1,>=3.4->seaborn) (11.1.0)\n",
      "Requirement already satisfied: pyparsing>=2.3.1 in c:\\users\\hp\\anaconda3\\lib\\site-packages (from matplotlib!=3.6.1,>=3.4->seaborn) (3.2.0)\n",
      "Requirement already satisfied: python-dateutil>=2.7 in c:\\users\\hp\\anaconda3\\lib\\site-packages (from matplotlib!=3.6.1,>=3.4->seaborn) (2.9.0.post0)\n",
      "Requirement already satisfied: pytz>=2020.1 in c:\\users\\hp\\anaconda3\\lib\\site-packages (from pandas>=1.2->seaborn) (2024.1)\n",
      "Requirement already satisfied: tzdata>=2022.7 in c:\\users\\hp\\anaconda3\\lib\\site-packages (from pandas>=1.2->seaborn) (2025.2)\n",
      "Requirement already satisfied: six>=1.5 in c:\\users\\hp\\anaconda3\\lib\\site-packages (from python-dateutil>=2.7->matplotlib!=3.6.1,>=3.4->seaborn) (1.17.0)\n"
     ]
    }
   ],
   "source": [
    "!pip install seaborn\n"
   ]
  },
  {
   "cell_type": "code",
   "execution_count": 44,
   "id": "f7824534-29b9-4ac1-bbe2-19307f1b1921",
   "metadata": {},
   "outputs": [],
   "source": [
    "import seaborn as sns"
   ]
  },
  {
   "cell_type": "code",
   "execution_count": 47,
   "id": "b5cd47f8-e950-407b-9760-0a53fc1af90e",
   "metadata": {},
   "outputs": [
    {
     "data": {
      "text/plain": [
       "<Axes: xlabel='studyHOURS'>"
      ]
     },
     "execution_count": 47,
     "metadata": {},
     "output_type": "execute_result"
    },
    {
     "data": {
      "image/png": "[encoded data removed]",
      "text/plain": [
       "<Figure size 640x480 with 1 Axes>"
      ]
     },
     "metadata": {},
     "output_type": "display_data"
    }
   ],
   "source": [
    "sns.boxplot(x='studyHOURS', data=df)\n",
    "sns.stripplot(x='studyHOURS', data=df, color=\"#474646\")"
   ]
  },
  {
   "cell_type": "code",
   "execution_count": 51,
   "id": "06136c03-894a-4135-a4c0-a256536f078b",
   "metadata": {},
   "outputs": [
    {
     "data": {
      "text/plain": [
       "count     77.000000\n",
       "mean     149.714286\n",
       "std       12.743272\n",
       "min      114.000000\n",
       "25%      144.000000\n",
       "50%      156.000000\n",
       "75%      158.000000\n",
       "max      160.000000\n",
       "Name: studyHOURS, dtype: float64"
      ]
     },
     "execution_count": 51,
     "metadata": {},
     "output_type": "execute_result"
    }
   ],
   "source": [
    "df['studyHOURS'].describe()"
   ]
  },
  {
   "cell_type": "code",
   "execution_count": 48,
   "id": "d78f73aa-7e00-43f9-aa6d-3f27a7c45859",
   "metadata": {},
   "outputs": [
    {
     "data": {
      "text/plain": [
       "<Axes: xlabel='Python'>"
      ]
     },
     "execution_count": 48,
     "metadata": {},
     "output_type": "execute_result"
    },
    {
     "data": {
      "image/png": "[encoded data removed]",
      "text/plain": [
       "<Figure size 640x480 with 1 Axes>"
      ]
     },
     "metadata": {},
     "output_type": "display_data"
    }
   ],
   "source": [
    "sns.boxplot(x='Python', data=df)\n",
    "sns.stripplot(x='Python', data=df, color=\"#474646\")"
   ]
  },
  {
   "cell_type": "code",
   "execution_count": 50,
   "id": "a28c1cc8-2bdf-41f3-8306-d0b723722482",
   "metadata": {},
   "outputs": [
    {
     "data": {
      "text/plain": [
       "count    77.000000\n",
       "mean     75.853333\n",
       "std      15.206208\n",
       "min      15.000000\n",
       "25%      72.000000\n",
       "50%      81.000000\n",
       "75%      85.000000\n",
       "max      91.000000\n",
       "Name: Python, dtype: float64"
      ]
     },
     "execution_count": 50,
     "metadata": {},
     "output_type": "execute_result"
    }
   ],
   "source": [
    "df['Python'].describe()"
   ]
  },
  {
   "cell_type": "code",
   "execution_count": 49,
   "id": "4782a756-f37c-453c-9c18-6e0d43bf0a2e",
   "metadata": {},
   "outputs": [
    {
     "data": {
      "text/plain": [
       "<Axes: xlabel='DB'>"
      ]
     },
     "execution_count": 49,
     "metadata": {},
     "output_type": "execute_result"
    },
    {
     "data": {
      "image/png": "[encoded data removed]",
      "text/plain": [
       "<Figure size 640x480 with 1 Axes>"
      ]
     },
     "metadata": {},
     "output_type": "display_data"
    }
   ],
   "source": [
    "sns.boxplot(x='DB', data=df)\n",
    "sns.stripplot(x='DB', data=df, color=\"#474646\")"
   ]
  },
  {
   "cell_type": "code",
   "execution_count": 53,
   "id": "b20ccf6e-1dd9-41c5-b589-435150802bd3",
   "metadata": {},
   "outputs": [
    {
     "data": {
      "text/plain": [
       "count     77.000000\n",
       "mean      69.467532\n",
       "std       17.033701\n",
       "min       30.000000\n",
       "25%       56.000000\n",
       "50%       71.000000\n",
       "75%       83.000000\n",
       "max      100.000000\n",
       "Name: DB, dtype: float64"
      ]
     },
     "execution_count": 53,
     "metadata": {},
     "output_type": "execute_result"
    }
   ],
   "source": [
    "df['DB'].describe()"
   ]
  },
  {
   "cell_type": "code",
   "execution_count": null,
   "id": "4349c391-83f0-49f3-a542-ef0d0fe5d36e",
   "metadata": {},
   "outputs": [],
   "source": []
  }
 ],
 "metadata": {
  "kernelspec": {
   "display_name": "Python 3 (ipykernel)",
   "language": "python",
   "name": "python3"
  },
  "language_info": {
   "codemirror_mode": {
    "name": "ipython",
    "version": 3
   },
   "file_extension": ".py",
   "mimetype": "text/x-python",
   "name": "python",
   "nbconvert_exporter": "python",
   "pygments_lexer": "ipython3",
   "version": "3.13.5"
  }
 },
 "nbformat": 4,
 "nbformat_minor": 5
}
